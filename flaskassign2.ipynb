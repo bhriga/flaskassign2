{
 "cells": [
  {
   "cell_type": "code",
   "execution_count": null,
   "metadata": {},
   "outputs": [],
   "source": [
    "Q1. What is Flask Framework? What are the advantages of Flask Framework?\n",
    "\n",
    "answer:\n",
    "\n",
    "Flask is a micro web framework written in Python. It is designed to be lightweight and easy to use, making it a\n",
    "popular choice for developing web applications, APIs, and other web services. Here are some key advantages\n",
    " of using Flask:\n",
    "\n",
    "Lightweight: Flask is minimalistic and doesn't have any dependencies other than the Python standard library. \n",
    "This makes it easy to install and maintain.\n",
    "\n",
    "Flexibility: Flask is highly customizable, allowing developers to choose the components they need for their specific\n",
    "project. It follows a \"do-it-yourself\" philosophy, which means you can add extensions and libraries as needed.\n",
    "\n",
    "Simple to learn: Flask has a simple and intuitive syntax, making it easy for beginners to get started with web development\n",
    " in Python. Its documentation is extensive and well-organized, providing clear guidance on how to use its features.\n",
    "\n",
    "Extensive ecosystem: Although Flask itself is minimalistic, it has a large ecosystem of extensions and libraries that\n",
    "add functionality for tasks such as authentication, database integration, and form validation. These extensions can be \n",
    "easily integrated into Flask applications to add more features.\n",
    "\n",
    "Built-in development server: Flask comes with a built-in development server that makes it easy to test and debug \n",
    "applications locally before deploying them to production servers.\n",
    "\n",
    "Ideal for small to medium-sized projects: Flask is well-suited for developing small to medium-sized web applications \n",
    "and APIs. Its simplicity and flexibility make it a good choice for projects where a full-fledged framework like Django\n",
    "might be too heavyweight."
   ]
  },
  {
   "cell_type": "code",
   "execution_count": null,
   "metadata": {},
   "outputs": [],
   "source": [
    "Q3. What is App routing in Flask? Why do we use app routes?\n",
    "\n",
    "answer:\n",
    "\n",
    "In Flask, app routing refers to the process of mapping URLs (Uniform Resource Locators) to the corresponding Python functions, known as view functions\n",
    "or routes. These routes define how the application responds to different HTTP requests.\n",
    "\n",
    "When a user sends a request to a Flask application, the Flask router examines the URL of the request and invokes the corresponding view function\n",
    "associated with that URL route. This mechanism allows developers to define different behaviors for different URLs, enabling the creation of dynamic\n",
    "web applications with multiple pages and functionalities.\n",
    "\n",
    "We use app routes in Flask for several reasons:\n",
    "\n",
    "URL Mapping: App routes allow developers to map specific URLs to the appropriate functionality or content within the application. This enables\n",
    "users to access different parts of the application by navigating through the defined routes.\n",
    "\n",
    "Modularization: By organizing the application into distinct routes, developers can maintain a clear structure and separation of concerns within\n",
    "their codebase. Each route can handle a specific aspect or feature of the application, making it easier to manage and extend.\n",
    "\n",
    "Dynamic Content: App routes facilitate the creation of dynamic web applications by allowing developers to generate content dynamically based on \n",
    "user input, database queries, or other external factors. This enables the development of interactive and personalized user experiences.\n",
    "\n",
    "RESTful APIs: Flask app routes are commonly used to implement RESTful APIs (Representational State Transfer), where different routes correspond to \n",
    "different API endpoints. This allows clients to interact with the application by sending HTTP requests to specific URLs, triggering the execution of\n",
    "corresponding actions on the server."
   ]
  },
  {
   "cell_type": "code",
   "execution_count": null,
   "metadata": {},
   "outputs": [],
   "source": [
    "Q4. Create a “/welcome” route to display the welcome message “Welcome to ABC Corporation” and a “/”\n",
    "route to show the following details:\n",
    "Company Name: ABC Corporation\n",
    "Location: India\n",
    "Contact Detail: 999-999-9999"
   ]
  },
  {
   "cell_type": "code",
   "execution_count": 33,
   "metadata": {},
   "outputs": [
    {
     "name": "stderr",
     "output_type": "stream",
     "text": [
      "'[Screenshot' is not recognized as an internal or external command,\n",
      "operable program or batch file.\n"
     ]
    }
   ],
   "source": [
    "![Screenshot of My output](C:/Users/dell/Desktop/imaage/screenshot1.png)\n"
   ]
  },
  {
   "cell_type": "code",
   "execution_count": null,
   "metadata": {},
   "outputs": [],
   "source": [
    "from flask import Flask\n",
    "\n",
    "app = Flask(__name__)\n",
    "\n",
    "@app.route(\"/\")\n",
    "def hello_world():\n",
    "     return '''\n",
    "    <h1>Company Details</h1>\n",
    "    <p><strong>Company Name:</strong> ABC Corporation</p>\n",
    "    <p><strong>Location:</strong> India</p>\n",
    "    <p><strong>Contact Detail:</strong> 999-999-9999</p>\n",
    "    '''\n",
    "\n",
    "if __name__==\"__main__\":\n",
    "    app.run(host=\"0.0.0.0\")"
   ]
  },
  {
   "cell_type": "code",
   "execution_count": null,
   "metadata": {},
   "outputs": [],
   "source": [
    "Q5. What function is used in Flask for URL Building? Write a Python code to demonstrate the working of the\n",
    "url_for() function.\n",
    "\n",
    "answer:\n",
    "In Flask, the url_for() function is used for URL building. It generates a URL to a specific function dynamically.\n",
    "This function is helpful because it allows you to avoid hardcoding URLs in your\n",
    "templates or code, making your application more maintainable and flexible."
   ]
  },
  {
   "cell_type": "code",
   "execution_count": 21,
   "metadata": {},
   "outputs": [
    {
     "name": "stdout",
     "output_type": "stream",
     "text": [
      " * Serving Flask app '__main__'\n",
      " * Debug mode: on\n"
     ]
    },
    {
     "name": "stderr",
     "output_type": "stream",
     "text": [
      "WARNING: This is a development server. Do not use it in a production deployment. Use a production WSGI server instead.\n",
      " * Running on http://127.0.0.1:5000\n",
      "Press CTRL+C to quit\n",
      " * Restarting with stat\n"
     ]
    },
    {
     "ename": "SystemExit",
     "evalue": "1",
     "output_type": "error",
     "traceback": [
      "An exception has occurred, use %tb to see the full traceback.\n",
      "\u001b[1;31mSystemExit\u001b[0m\u001b[1;31m:\u001b[0m 1\n"
     ]
    },
    {
     "name": "stderr",
     "output_type": "stream",
     "text": [
      "C:\\Users\\dell\\AppData\\Local\\Programs\\Python\\Python312\\Lib\\site-packages\\IPython\\core\\interactiveshell.py:3558: UserWarning: To exit: use 'exit', 'quit', or Ctrl-D.\n",
      "  warn(\"To exit: use 'exit', 'quit', or Ctrl-D.\", stacklevel=1)\n"
     ]
    }
   ],
   "source": [
    "from flask import Flask, url_for\n",
    "\n",
    "app = Flask(__name__)\n",
    "\n",
    "# Route for the homepage\n",
    "@app.route('/')\n",
    "def index():\n",
    "    # Using url_for to generate a URL for the 'about' function\n",
    "    about_url = url_for('about')\n",
    "    return f'<h1>Welcome to the homepage!</h1><p>Click <a href=\"{about_url}\">here</a> to go to the About page.</p>'\n",
    "\n",
    "# Route for the about page\n",
    "@app.route('/about')\n",
    "def about():\n",
    "    return '<h1>About Page</h1><p>This is the About page.</p>'\n",
    "\n",
    "if __name__ == '__main__':\n",
    "    app.run(debug=True)\n"
   ]
  },
  {
   "cell_type": "code",
   "execution_count": null,
   "metadata": {},
   "outputs": [],
   "source": []
  }
 ],
 "metadata": {
  "kernelspec": {
   "display_name": "Python 3 (ipykernel)",
   "language": "python",
   "name": "python3"
  },
  "language_info": {
   "codemirror_mode": {
    "name": "ipython",
    "version": 3
   },
   "file_extension": ".py",
   "mimetype": "text/x-python",
   "name": "python",
   "nbconvert_exporter": "python",
   "pygments_lexer": "ipython3",
   "version": "3.12.0"
  }
 },
 "nbformat": 4,
 "nbformat_minor": 4
}
